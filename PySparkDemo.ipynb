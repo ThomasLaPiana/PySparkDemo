{
 "cells": [
  {
   "cell_type": "code",
   "execution_count": 17,
   "metadata": {
    "collapsed": false,
    "scrolled": true
   },
   "outputs": [
    {
     "data": {
      "text/plain": [
       "'Technology - The Huffington Post'"
      ]
     },
     "execution_count": 17,
     "metadata": {},
     "output_type": "execute_result"
    }
   ],
   "source": [
    "#Requires PySpark, installation information can be found here: https://www.dataquest.io/blog/installing-pyspark/\n",
    "#import PySpark as ps \n",
    "import feedparser as fp\n",
    "from bs4 import BeautifulSoup \n",
    "\n",
    "feed = fp.parse('http://feeds.huffingtonpost.com/c/35496/f/677097/index.rss')\n",
    "feed['feed']['title']"
   ]
  },
  {
   "cell_type": "code",
   "execution_count": 19,
   "metadata": {
    "collapsed": false
   },
   "outputs": [
    {
     "name": "stdout",
     "output_type": "stream",
     "text": [
      "4 Key Roles on Agile Software Development Teams http://feeds.huffingtonpost.com/c/35496/f/677097/s/4e8e7e87/sc/28/l/0L0Shuffingtonpost0N0Cbrian0Ede0Ehaaff0C40Ekey0Eroles0Eon0Eagile0Esoft0Ib0I95477880Bhtml0Dutm0Ihp0Iref0Ftechnology0Gir0FTechnology/story01.htm Brian de Haaff\n"
     ]
    }
   ],
   "source": [
    "feed_items = feed['items']\n",
    "print(feed_items[0]['title'],feed_items[0]['link'],feed_items[0]['author'])"
   ]
  },
  {
   "cell_type": "code",
   "execution_count": 22,
   "metadata": {
    "collapsed": false
   },
   "outputs": [
    {
     "data": {
      "text/plain": [
       "\"  Agile teams work with a sense of urgency that is tough to match. That's because responding to change is their core value. They know how quickly today's software market moves. So, they use adaptive planning to practice dynamic software development. And each role on an Agile team helps to form a cohesive whole.  Members of these teams often have different roles. And these roles can have different names depending on the methodology used.  Still, some roles are fairly universal. And knowing how they contribute is important.  Common Agile roles include the following:  Team Lead, Scrum Master (Scrum), Team Coach, or Project Lead Acts as the coach responsible for facilitating and guiding the team, obtaining resources when required, and removing impediments that keep the team from doing their work. The Scrum Master role often encompasses the soft skills of project management more than planning and technical skills, which are often left to the team as a whole. It is important to note that this person is not necessarily the team's manager. Rather, this role should reflect knowledge and responsibilities over rank.  Team Member Responsible for the project's creation and delivery. The team members will normally be comprised of developers, QA, and documentation. They are responsible for planning, design, development, testing, and project delivery.  Product Owner (Scrum), On-Site Customer (XP), Active Stakeholder Represents the voice of the customer and is responsible for the prioritized backlog and maximizing the return on investment (ROI). Part of this role's responsibility includes documenting user stories or requirements for the project.  Stakeholders Represents a broad category of people who can be users, managers of users, operations, support, Portfolio Managers, other Agile teams with dependencies, executive team, investors, and more.   In addition to these common roles, Agile teams will sometimes have extended cast members who are called upon to provide technical or domain expertise for certain specialized skills that may not be present amongst the team members.   Likewise, it is not always reasonable or fair to expect product owners to be so-called experts in every facet of a product or domain. This is when they call in domain experts to assist the team with certain requirements.  Ultimately, improving how teams innovate is a continuous journey. And new methodologies will certainly emerge over time -- as will best practices for software development.   Agile teams will find that different approaches are available and specific solutions work best for them. But the impact of Agile on product development cannot be understated, with its focus on the customer and the art of collaboration. -- This feed and its contents are the property of The Huffington Post, and use is subject to our terms. It may be used for personal consumption, but may not be distributed on a website.\""
      ]
     },
     "execution_count": 22,
     "metadata": {},
     "output_type": "execute_result"
    }
   ],
   "source": [
    "soup = BeautifulSoup(feed_items[0]['description'], 'lxml')\n",
    "soup.get_text()"
   ]
  },
  {
   "cell_type": "code",
   "execution_count": 23,
   "metadata": {
    "collapsed": false
   },
   "outputs": [
    {
     "data": {
      "text/plain": [
       "20"
      ]
     },
     "execution_count": 23,
     "metadata": {},
     "output_type": "execute_result"
    }
   ],
   "source": [
    "len(feed_items)"
   ]
  },
  {
   "cell_type": "code",
   "execution_count": null,
   "metadata": {
    "collapsed": true
   },
   "outputs": [],
   "source": []
  }
 ],
 "metadata": {
  "kernelspec": {
   "display_name": "Python 3",
   "language": "python",
   "name": "python3"
  },
  "language_info": {
   "codemirror_mode": {
    "name": "ipython",
    "version": 3
   },
   "file_extension": ".py",
   "mimetype": "text/x-python",
   "name": "python",
   "nbconvert_exporter": "python",
   "pygments_lexer": "ipython3",
   "version": "3.5.1"
  }
 },
 "nbformat": 4,
 "nbformat_minor": 0
}
