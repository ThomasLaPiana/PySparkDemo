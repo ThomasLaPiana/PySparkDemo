{
 "cells": [
  {
   "cell_type": "code",
   "execution_count": 9,
   "metadata": {
    "collapsed": false
   },
   "outputs": [],
   "source": [
    "####################################Imports and Initial Feed Rip###################################################\n",
    "\n",
    "\n",
    "\n",
    "#Requires PySpark, installation information can be found here: https://www.dataquest.io/blog/installing-pyspark/\n",
    "#import PySpark as ps \n",
    "import feedparser as fp, pandas as pd, datetime, time, string\n",
    "from bs4 import BeautifulSoup \n",
    "from functools import reduce\n",
    "\n",
    "#Get the News Feed and Slice it to only include the news items\n",
    "feed = fp.parse('http://feeds.huffingtonpost.com/c/35496/f/677097/index.rss')\n",
    "feed_items = feed['items']\n",
    "\n",
    "###################################################################################################################"
   ]
  },
  {
   "cell_type": "code",
   "execution_count": 6,
   "metadata": {
    "collapsed": false
   },
   "outputs": [
    {
     "data": {
      "text/html": [
       "<div>\n",
       "<table border=\"1\" class=\"dataframe\">\n",
       "  <thead>\n",
       "    <tr style=\"text-align: right;\">\n",
       "      <th></th>\n",
       "      <th>author</th>\n",
       "      <th>id</th>\n",
       "      <th>title</th>\n",
       "      <th>summary</th>\n",
       "    </tr>\n",
       "  </thead>\n",
       "  <tbody>\n",
       "    <tr>\n",
       "      <th>0</th>\n",
       "      <td>Zeba Blay</td>\n",
       "      <td>http://www.huffingtonpost.com/2016/03/24/meet-...</td>\n",
       "      <td>Meet The Social Media Star Changing The Way We...</td>\n",
       "      <td>If you don't know who Yagazie Emezi is, it's t...</td>\n",
       "    </tr>\n",
       "  </tbody>\n",
       "</table>\n",
       "</div>"
      ],
      "text/plain": [
       "      author                                                 id  \\\n",
       "0  Zeba Blay  http://www.huffingtonpost.com/2016/03/24/meet-...   \n",
       "\n",
       "                                               title  \\\n",
       "0  Meet The Social Media Star Changing The Way We...   \n",
       "\n",
       "                                             summary  \n",
       "0  If you don't know who Yagazie Emezi is, it's t...  "
      ]
     },
     "execution_count": 6,
     "metadata": {},
     "output_type": "execute_result"
    }
   ],
   "source": [
    "#################################Create the Cleaned News Items DataFrame###########################################\n",
    "\n",
    "#Import the raw data into a DataFrame\n",
    "raw_news_dataframe = pd.DataFrame(feed_items)\n",
    "\n",
    "#Clean the DataFrame\n",
    "def dataframe_cleaner(dataframe): \n",
    "    being_cleaned_df = pd.DataFrame(raw_news_dataframe[['author','id','title','summary']])\n",
    "    \n",
    "    for i in range(0,len(being_cleaned_df['summary'])):\n",
    "        soup = BeautifulSoup(being_cleaned_df['summary'][i],'lxml')\n",
    "        being_cleaned_df['summary'][i] = soup.get_text()\n",
    "    \n",
    "    return being_cleaned_df\n",
    "    \n",
    "#Create the cleaned Dataframe    \n",
    "news_df = dataframe_cleaner(raw_news_dataframe)\n",
    "news_df.head(1)\n",
    "\n",
    "###################################################################################################################"
   ]
  },
  {
   "cell_type": "code",
   "execution_count": 7,
   "metadata": {
    "collapsed": false
   },
   "outputs": [
    {
     "data": {
      "text/html": [
       "<div>\n",
       "<table border=\"1\" class=\"dataframe\">\n",
       "  <thead>\n",
       "    <tr style=\"text-align: right;\">\n",
       "      <th></th>\n",
       "      <th>type</th>\n",
       "      <th>word</th>\n",
       "      <th>position</th>\n",
       "      <th>stemmed</th>\n",
       "      <th>polarity</th>\n",
       "    </tr>\n",
       "  </thead>\n",
       "  <tbody>\n",
       "    <tr>\n",
       "      <th>0</th>\n",
       "      <td>0.5</td>\n",
       "      <td>abandoned</td>\n",
       "      <td>adj</td>\n",
       "      <td>n</td>\n",
       "      <td>-1</td>\n",
       "    </tr>\n",
       "  </tbody>\n",
       "</table>\n",
       "</div>"
      ],
      "text/plain": [
       "   type       word position stemmed  polarity\n",
       "0   0.5  abandoned      adj       n        -1"
      ]
     },
     "execution_count": 7,
     "metadata": {},
     "output_type": "execute_result"
    }
   ],
   "source": [
    "#Load in the Sentiment DataFrame\n",
    "sentiment_df = pd.read_csv('sentiment_DataFrame.csv')\n",
    "sentiment_df = sentiment_df.ix[:,'type':]\n",
    "sentiment_df.head(1)"
   ]
  },
  {
   "cell_type": "code",
   "execution_count": 19,
   "metadata": {
    "collapsed": false
   },
   "outputs": [
    {
     "name": "stdout",
     "output_type": "stream",
     "text": [
      "Elapsed Time: 450.0163402557373\n"
     ]
    },
    {
     "data": {
      "text/html": [
       "<div>\n",
       "<table border=\"1\" class=\"dataframe\">\n",
       "  <thead>\n",
       "    <tr style=\"text-align: right;\">\n",
       "      <th></th>\n",
       "      <th>author</th>\n",
       "      <th>id</th>\n",
       "      <th>title</th>\n",
       "      <th>summary</th>\n",
       "      <th>normalized_title_sentiment</th>\n",
       "      <th>normalized_summary_sentiment</th>\n",
       "    </tr>\n",
       "  </thead>\n",
       "  <tbody>\n",
       "    <tr>\n",
       "      <th>0</th>\n",
       "      <td>Zeba Blay</td>\n",
       "      <td>http://www.huffingtonpost.com/2016/03/24/meet-...</td>\n",
       "      <td>Meet The Social Media Star Changing The Way We...</td>\n",
       "      <td>If you don't know who Yagazie Emezi is, it's t...</td>\n",
       "      <td>0.2000</td>\n",
       "      <td>0.072957</td>\n",
       "    </tr>\n",
       "    <tr>\n",
       "      <th>1</th>\n",
       "      <td>Damon Beres</td>\n",
       "      <td>http://www.huffingtonpost.com/2016/03/30/micro...</td>\n",
       "      <td>Society Needs To Decide Where Tech Is Taking U...</td>\n",
       "      <td>Will we control technology? Or will technolog...</td>\n",
       "      <td>0.0000</td>\n",
       "      <td>0.051402</td>\n",
       "    </tr>\n",
       "    <tr>\n",
       "      <th>2</th>\n",
       "      <td>Casey Williams</td>\n",
       "      <td>http://www.huffingtonpost.com/2016/03/30/micro...</td>\n",
       "      <td>Microsoft's Chat Bot Re-Activates, Immediately...</td>\n",
       "      <td>March 30 (Reuters) - Almost a week after be...</td>\n",
       "      <td>-0.1250</td>\n",
       "      <td>0.008065</td>\n",
       "    </tr>\n",
       "    <tr>\n",
       "      <th>3</th>\n",
       "      <td>Damon Beres</td>\n",
       "      <td>http://www.huffingtonpost.com/2016/03/30/gta-v...</td>\n",
       "      <td>Thousands Are Watching A Virtual Deer Run Amok...</td>\n",
       "      <td>Watch live video from bwatanabe on www.twitch...</td>\n",
       "      <td>0.0000</td>\n",
       "      <td>0.024038</td>\n",
       "    </tr>\n",
       "    <tr>\n",
       "      <th>4</th>\n",
       "      <td>Daniel Burrus</td>\n",
       "      <td>http://www.huffingtonpost.com/daniel-burrus/te...</td>\n",
       "      <td>Technology Is Disrupting Crime -- Are You Ready?</td>\n",
       "      <td>Crime rates have been recorded for as long a...</td>\n",
       "      <td>-0.0625</td>\n",
       "      <td>-0.024752</td>\n",
       "    </tr>\n",
       "  </tbody>\n",
       "</table>\n",
       "</div>"
      ],
      "text/plain": [
       "           author                                                 id  \\\n",
       "0       Zeba Blay  http://www.huffingtonpost.com/2016/03/24/meet-...   \n",
       "1     Damon Beres  http://www.huffingtonpost.com/2016/03/30/micro...   \n",
       "2  Casey Williams  http://www.huffingtonpost.com/2016/03/30/micro...   \n",
       "3     Damon Beres  http://www.huffingtonpost.com/2016/03/30/gta-v...   \n",
       "4   Daniel Burrus  http://www.huffingtonpost.com/daniel-burrus/te...   \n",
       "\n",
       "                                               title  \\\n",
       "0  Meet The Social Media Star Changing The Way We...   \n",
       "1  Society Needs To Decide Where Tech Is Taking U...   \n",
       "2  Microsoft's Chat Bot Re-Activates, Immediately...   \n",
       "3  Thousands Are Watching A Virtual Deer Run Amok...   \n",
       "4   Technology Is Disrupting Crime -- Are You Ready?   \n",
       "\n",
       "                                             summary  \\\n",
       "0  If you don't know who Yagazie Emezi is, it's t...   \n",
       "1   Will we control technology? Or will technolog...   \n",
       "2     March 30 (Reuters) - Almost a week after be...   \n",
       "3   Watch live video from bwatanabe on www.twitch...   \n",
       "4    Crime rates have been recorded for as long a...   \n",
       "\n",
       "   normalized_title_sentiment  normalized_summary_sentiment  \n",
       "0                      0.2000                      0.072957  \n",
       "1                      0.0000                      0.051402  \n",
       "2                     -0.1250                      0.008065  \n",
       "3                      0.0000                      0.024038  \n",
       "4                     -0.0625                     -0.024752  "
      ]
     },
     "execution_count": 19,
     "metadata": {},
     "output_type": "execute_result"
    }
   ],
   "source": [
    "##########################Perform Sentiment Analysis on the Title and Body of the Articles#########################\n",
    "def title_analysis(title):\n",
    "    tokenized_title = dict.fromkeys(title.split(' '))                          \n",
    "                                \n",
    "    for key in tokenized_title:\n",
    "        tokenized_title[key] = [sentiment_df['type'][i] * sentiment_df['polarity'][i]\n",
    "                               for i in range(0,len(sentiment_df.index)) \n",
    "                               if key.lower() == sentiment_df['word'][i]]\n",
    "    \n",
    "    total_sentiment = sum([item for sublist in list(tokenized_title.values()) for item in sublist])\n",
    "    normalized_sentiment = total_sentiment / len(tokenized_title)\n",
    "    \n",
    "    return normalized_sentiment\n",
    "\n",
    "def summary_analysis(summary):\n",
    "    tokenized_summary = dict.fromkeys(summary.split(' '))\n",
    "    \n",
    "    for key in tokenized_summary:\n",
    "        tokenized_summary[key] = [sentiment_df['type'][i] * sentiment_df['polarity'][i]\n",
    "                               for i in range(0,len(sentiment_df.index)) \n",
    "                               if key.lower() == sentiment_df['word'][i]]\n",
    "    \n",
    "    total_sentiment = sum([item for sublist in list(tokenized_summary.values()) for item in sublist])\n",
    "    normalized_sentiment = total_sentiment / len(tokenized_summary)\n",
    "    return normalized_sentiment\n",
    "\n",
    "def sentiment_analysis(dataframe):\n",
    "    analyzing_df = dataframe\n",
    "    analyzing_df['normalized_title_sentiment'] = list(map(lambda x: title_analysis(x),analyzing_df['title']))\n",
    "    analyzing_df['normalized_summary_sentiment'] = list(map(lambda x: summary_analysis(x),analyzing_df['summary']))\n",
    "    return analyzing_df\n",
    "\n",
    "start_time = time.time()\n",
    "analyzed_articles_df = sentiment_analysis(news_df)\n",
    "elapsed_time = time.time() - start_time\n",
    "print('Elapsed Time: ' + str(elapsed_time))\n",
    "analyzed_articles_df.head()\n",
    "\n",
    "###################################################################################################################"
   ]
  },
  {
   "cell_type": "code",
   "execution_count": null,
   "metadata": {
    "collapsed": true
   },
   "outputs": [],
   "source": []
  }
 ],
 "metadata": {
  "kernelspec": {
   "display_name": "Python 3",
   "language": "python",
   "name": "python3"
  },
  "language_info": {
   "codemirror_mode": {
    "name": "ipython",
    "version": 3
   },
   "file_extension": ".py",
   "mimetype": "text/x-python",
   "name": "python",
   "nbconvert_exporter": "python",
   "pygments_lexer": "ipython3",
   "version": "3.5.1"
  }
 },
 "nbformat": 4,
 "nbformat_minor": 0
}
