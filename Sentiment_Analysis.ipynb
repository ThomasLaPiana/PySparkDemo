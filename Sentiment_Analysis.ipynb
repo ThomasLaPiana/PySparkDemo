{
 "cells": [
  {
   "cell_type": "code",
   "execution_count": 2,
   "metadata": {
    "collapsed": false
   },
   "outputs": [],
   "source": [
    "####################################Imports and Initial Feed Rip###################################################\n",
    "\n",
    "\n",
    "\n",
    "#Requires PySpark, installation information can be found here: https://www.dataquest.io/blog/installing-pyspark/\n",
    "#import PySpark as ps \n",
    "import feedparser as fp, pandas as pd, datetime, time\n",
    "from bs4 import BeautifulSoup \n",
    "from functools import reduce\n",
    "\n",
    "#Get the News Feed and Slice it to only include the news items\n",
    "feed = fp.parse('http://feeds.huffingtonpost.com/c/35496/f/677097/index.rss')\n",
    "feed_items = feed['items']\n",
    "\n",
    "###################################################################################################################"
   ]
  },
  {
   "cell_type": "code",
   "execution_count": 3,
   "metadata": {
    "collapsed": false
   },
   "outputs": [
    {
     "data": {
      "text/html": [
       "<div>\n",
       "<table border=\"1\" class=\"dataframe\">\n",
       "  <thead>\n",
       "    <tr style=\"text-align: right;\">\n",
       "      <th></th>\n",
       "      <th>author</th>\n",
       "      <th>id</th>\n",
       "      <th>title</th>\n",
       "      <th>summary</th>\n",
       "    </tr>\n",
       "  </thead>\n",
       "  <tbody>\n",
       "    <tr>\n",
       "      <th>0</th>\n",
       "      <td>Nick Visser</td>\n",
       "      <td>http://www.huffingtonpost.com/2016/03/29/beam-...</td>\n",
       "      <td>NASA Test Could Pave The Way For Future Space ...</td>\n",
       "      <td>NASA is preparing to launch an expandable c...</td>\n",
       "    </tr>\n",
       "  </tbody>\n",
       "</table>\n",
       "</div>"
      ],
      "text/plain": [
       "        author                                                 id  \\\n",
       "0  Nick Visser  http://www.huffingtonpost.com/2016/03/29/beam-...   \n",
       "\n",
       "                                               title  \\\n",
       "0  NASA Test Could Pave The Way For Future Space ...   \n",
       "\n",
       "                                             summary  \n",
       "0     NASA is preparing to launch an expandable c...  "
      ]
     },
     "execution_count": 3,
     "metadata": {},
     "output_type": "execute_result"
    }
   ],
   "source": [
    "#################################Create the Cleaned News Items DataFrame###########################################\n",
    "\n",
    "#Import the raw data into a DataFrame\n",
    "raw_news_dataframe = pd.DataFrame(feed_items)\n",
    "\n",
    "#Clean the DataFrame\n",
    "def dataframe_cleaner(dataframe): \n",
    "    being_cleaned_df = pd.DataFrame(raw_news_dataframe[['author','id','title','summary']])\n",
    "    \n",
    "    for i in range(0,len(being_cleaned_df['summary'])):\n",
    "        soup = BeautifulSoup(being_cleaned_df['summary'][i],'lxml')\n",
    "        being_cleaned_df['summary'][i] = soup.get_text()\n",
    "    \n",
    "    return being_cleaned_df\n",
    "    \n",
    "#Create the cleaned Dataframe    \n",
    "news_df = dataframe_cleaner(raw_news_dataframe)\n",
    "news_df.head(1)\n",
    "\n",
    "###################################################################################################################"
   ]
  },
  {
   "cell_type": "code",
   "execution_count": 7,
   "metadata": {
    "collapsed": false
   },
   "outputs": [
    {
     "data": {
      "text/html": [
       "<div>\n",
       "<table border=\"1\" class=\"dataframe\">\n",
       "  <thead>\n",
       "    <tr style=\"text-align: right;\">\n",
       "      <th></th>\n",
       "      <th>type</th>\n",
       "      <th>word</th>\n",
       "      <th>position</th>\n",
       "      <th>stemmed</th>\n",
       "      <th>polarity</th>\n",
       "    </tr>\n",
       "  </thead>\n",
       "  <tbody>\n",
       "    <tr>\n",
       "      <th>0</th>\n",
       "      <td>0.5</td>\n",
       "      <td>abandoned</td>\n",
       "      <td>adj</td>\n",
       "      <td>n</td>\n",
       "      <td>-1</td>\n",
       "    </tr>\n",
       "  </tbody>\n",
       "</table>\n",
       "</div>"
      ],
      "text/plain": [
       "   type       word position stemmed  polarity\n",
       "0   0.5  abandoned      adj       n        -1"
      ]
     },
     "execution_count": 7,
     "metadata": {},
     "output_type": "execute_result"
    }
   ],
   "source": [
    "#Load in the Sentiment DataFrame\n",
    "sentiment_df = pd.read_csv('sentiment_DataFrame.csv')\n",
    "sentiment_df = sentiment_df.ix[:,'type':]\n",
    "sentiment_df.head(1)"
   ]
  },
  {
   "cell_type": "code",
   "execution_count": 4,
   "metadata": {
    "collapsed": false
   },
   "outputs": [
    {
     "name": "stdout",
     "output_type": "stream",
     "text": [
      "Elapsed Time: 521.7441730499268\n"
     ]
    },
    {
     "data": {
      "text/html": [
       "<div>\n",
       "<table border=\"1\" class=\"dataframe\">\n",
       "  <thead>\n",
       "    <tr style=\"text-align: right;\">\n",
       "      <th></th>\n",
       "      <th>author</th>\n",
       "      <th>id</th>\n",
       "      <th>title</th>\n",
       "      <th>summary</th>\n",
       "      <th>title_sentiment</th>\n",
       "      <th>summary_sentiment</th>\n",
       "    </tr>\n",
       "  </thead>\n",
       "  <tbody>\n",
       "    <tr>\n",
       "      <th>0</th>\n",
       "      <td>James Cave</td>\n",
       "      <td>http://www.huffingtonpost.com/2016/03/29/umbre...</td>\n",
       "      <td>Umbrellas With Lifetime Warranties Will Weathe...</td>\n",
       "      <td>When you think about it, umbrella technology r...</td>\n",
       "      <td>2.0</td>\n",
       "      <td>10.0</td>\n",
       "    </tr>\n",
       "    <tr>\n",
       "      <th>1</th>\n",
       "      <td>Jessica Samakow</td>\n",
       "      <td>http://www.huffingtonpost.com/2016/03/28/babes...</td>\n",
       "      <td>Dudes Launch 'Babes For Trump' Instagram To El...</td>\n",
       "      <td>Women have strong political convictions; wome...</td>\n",
       "      <td>0.5</td>\n",
       "      <td>26.5</td>\n",
       "    </tr>\n",
       "    <tr>\n",
       "      <th>2</th>\n",
       "      <td>Natalia Brzezinski</td>\n",
       "      <td>http://www.huffingtonpost.com/natalia-lopatniu...</td>\n",
       "      <td>A Brilliant Mind: Founding Tech Companies with...</td>\n",
       "      <td>There's wide global awareness today that we ne...</td>\n",
       "      <td>2.5</td>\n",
       "      <td>58.5</td>\n",
       "    </tr>\n",
       "    <tr>\n",
       "      <th>3</th>\n",
       "      <td>Casey Williams</td>\n",
       "      <td>http://www.huffingtonpost.com/2016/03/25/low-i...</td>\n",
       "      <td>For Poor Americans, Getting Online Is About Mo...</td>\n",
       "      <td>Internet access could soon get a whole lot ch...</td>\n",
       "      <td>0.5</td>\n",
       "      <td>5.5</td>\n",
       "    </tr>\n",
       "    <tr>\n",
       "      <th>4</th>\n",
       "      <td>Charles Edge</td>\n",
       "      <td>http://www.huffingtonpost.com/charles-edge/the...</td>\n",
       "      <td>The Importance Of Having A Good Content Strate...</td>\n",
       "      <td>Search engine optimization (SEO) involves stra...</td>\n",
       "      <td>2.5</td>\n",
       "      <td>36.0</td>\n",
       "    </tr>\n",
       "  </tbody>\n",
       "</table>\n",
       "</div>"
      ],
      "text/plain": [
       "               author                                                 id  \\\n",
       "0          James Cave  http://www.huffingtonpost.com/2016/03/29/umbre...   \n",
       "1     Jessica Samakow  http://www.huffingtonpost.com/2016/03/28/babes...   \n",
       "2  Natalia Brzezinski  http://www.huffingtonpost.com/natalia-lopatniu...   \n",
       "3      Casey Williams  http://www.huffingtonpost.com/2016/03/25/low-i...   \n",
       "4        Charles Edge  http://www.huffingtonpost.com/charles-edge/the...   \n",
       "\n",
       "                                               title  \\\n",
       "0  Umbrellas With Lifetime Warranties Will Weathe...   \n",
       "1  Dudes Launch 'Babes For Trump' Instagram To El...   \n",
       "2  A Brilliant Mind: Founding Tech Companies with...   \n",
       "3  For Poor Americans, Getting Online Is About Mo...   \n",
       "4  The Importance Of Having A Good Content Strate...   \n",
       "\n",
       "                                             summary  title_sentiment  \\\n",
       "0  When you think about it, umbrella technology r...              2.0   \n",
       "1   Women have strong political convictions; wome...              0.5   \n",
       "2  There's wide global awareness today that we ne...              2.5   \n",
       "3   Internet access could soon get a whole lot ch...              0.5   \n",
       "4  Search engine optimization (SEO) involves stra...              2.5   \n",
       "\n",
       "   summary_sentiment  \n",
       "0               10.0  \n",
       "1               26.5  \n",
       "2               58.5  \n",
       "3                5.5  \n",
       "4               36.0  "
      ]
     },
     "execution_count": 4,
     "metadata": {},
     "output_type": "execute_result"
    }
   ],
   "source": [
    "##########################Perform Sentiment Analysis on the Title and Body of the Articles#########################\n",
    "def title_analysis(title):\n",
    "    tokenized_title = dict.fromkeys(title.split(' '))\n",
    "    \n",
    "    for key in tokenized_title:\n",
    "        tokenized_title[key] = [sentiment_df['type'][i] * sentiment_df['polarity'][i]\n",
    "                               for i in range(0,len(sentiment_df.index)) \n",
    "                               if key.lower() == sentiment_df['word'][i]]\n",
    "    \n",
    "    sentiment = sum([item for sublist in list(tokenized_title.values()) for item in sublist])\n",
    "    return sentiment\n",
    "\n",
    "def summary_analysis(summary):\n",
    "    tokenized_summary = dict.fromkeys(summary.split(' '))\n",
    "    \n",
    "    for key in tokenized_summary:\n",
    "        tokenized_summary[key] = [sentiment_df['type'][i] * sentiment_df['polarity'][i]\n",
    "                               for i in range(0,len(sentiment_df.index)) \n",
    "                               if key.lower() == sentiment_df['word'][i]]\n",
    "    \n",
    "    sentiment = sum([item for sublist in list(tokenized_summary.values()) for item in sublist])\n",
    "    return sentiment\n",
    "\n",
    "def sentiment_analysis(dataframe):\n",
    "    analyzing_df = dataframe\n",
    "    analyzing_df['title_sentiment'] = list(map(lambda x: title_analysis(x),analyzing_df['title']))\n",
    "    analyzing_df['summary_sentiment'] = list(map(lambda x: summary_analysis(x),analyzing_df['summary']))\n",
    "    return analyzing_df\n",
    "\n",
    "start_time = time.time()\n",
    "analyzed_articles_df = sentiment_analysis(news_df)\n",
    "elapsed_time = time.time() - start_time\n",
    "print('Elapsed Time: ' + str(elapsed_time))\n",
    "analyzed_articles_df.head()\n",
    "\n",
    "###################################################################################################################"
   ]
  }
 ],
 "metadata": {
  "kernelspec": {
   "display_name": "Python 3",
   "language": "python",
   "name": "python3"
  },
  "language_info": {
   "codemirror_mode": {
    "name": "ipython",
    "version": 3
   },
   "file_extension": ".py",
   "mimetype": "text/x-python",
   "name": "python",
   "nbconvert_exporter": "python",
   "pygments_lexer": "ipython3",
   "version": "3.5.1"
  }
 },
 "nbformat": 4,
 "nbformat_minor": 0
}
