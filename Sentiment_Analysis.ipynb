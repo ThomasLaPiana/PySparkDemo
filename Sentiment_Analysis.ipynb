{
 "cells": [
  {
   "cell_type": "code",
   "execution_count": 2,
   "metadata": {
    "collapsed": false
   },
   "outputs": [],
   "source": [
    "####################################Imports and TimeStamp###################################################\n",
    "import feedparser as fp, pandas as pd, datetime, time, string, requests as r\n",
    "from bs4 import BeautifulSoup \n",
    "from functools import reduce\n",
    "\n",
    "#Write the Date&Time that the Rip Occured\n",
    "download_time = datetime.datetime.fromtimestamp(time.time()).strftime('%Y-%m-%d %H:%M:%S')\n",
    "\n",
    "file = open('dateDownloaded.txt','w')\n",
    "file.write(download_time)\n",
    "file.close()\n",
    "\n",
    "###################################################################################################################"
   ]
  },
  {
   "cell_type": "code",
   "execution_count": 4,
   "metadata": {
    "collapsed": false
   },
   "outputs": [],
   "source": [
    "######################################Load in all of the Sentiment Files###########################################\n",
    "\n",
    "\n",
    "#Load in the Huffington Post DataFrame\n",
    "huffington_df = pd.read_csv('DataFramed_Source_Text/HuffingtonPostSentiment.csv')\n",
    "\n",
    "###################################################################################################################"
   ]
  },
  {
   "cell_type": "code",
   "execution_count": 5,
   "metadata": {
    "collapsed": false
   },
   "outputs": [
    {
     "data": {
      "text/html": [
       "<div>\n",
       "<table border=\"1\" class=\"dataframe\">\n",
       "  <thead>\n",
       "    <tr style=\"text-align: right;\">\n",
       "      <th></th>\n",
       "      <th>Change</th>\n",
       "      <th>ChangePercent</th>\n",
       "      <th>ChangePercentYTD</th>\n",
       "      <th>ChangeYTD</th>\n",
       "      <th>High</th>\n",
       "      <th>LastPrice</th>\n",
       "      <th>Low</th>\n",
       "      <th>MSDate</th>\n",
       "      <th>MarketCap</th>\n",
       "      <th>Name</th>\n",
       "      <th>Open</th>\n",
       "      <th>Status</th>\n",
       "      <th>Symbol</th>\n",
       "      <th>Timestamp</th>\n",
       "      <th>Volume</th>\n",
       "    </tr>\n",
       "  </thead>\n",
       "  <tbody>\n",
       "    <tr>\n",
       "      <th>0</th>\n",
       "      <td>0.1</td>\n",
       "      <td>0.092132</td>\n",
       "      <td>3.211096</td>\n",
       "      <td>105.26</td>\n",
       "      <td>109.77</td>\n",
       "      <td>108.64</td>\n",
       "      <td>108.17</td>\n",
       "      <td>42468.665972</td>\n",
       "      <td>602363497120</td>\n",
       "      <td>Apple Inc</td>\n",
       "      <td>108.91</td>\n",
       "      <td>SUCCESS</td>\n",
       "      <td>AAPL</td>\n",
       "      <td>Fri Apr 8 15:59:00 UTC-04:00 2016</td>\n",
       "      <td>1895413</td>\n",
       "    </tr>\n",
       "  </tbody>\n",
       "</table>\n",
       "</div>"
      ],
      "text/plain": [
       "   Change  ChangePercent  ChangePercentYTD  ChangeYTD    High  LastPrice  \\\n",
       "0     0.1       0.092132          3.211096     105.26  109.77     108.64   \n",
       "\n",
       "      Low        MSDate     MarketCap       Name    Open   Status Symbol  \\\n",
       "0  108.17  42468.665972  602363497120  Apple Inc  108.91  SUCCESS   AAPL   \n",
       "\n",
       "                           Timestamp   Volume  \n",
       "0  Fri Apr 8 15:59:00 UTC-04:00 2016  1895413  "
      ]
     },
     "execution_count": 5,
     "metadata": {},
     "output_type": "execute_result"
    }
   ],
   "source": [
    "################################################Pull Stock Data#####################################################\n",
    "company_info_df = pd.read_csv('DataFramed_Source_Text/Target_Company.csv')\n",
    "ticker_symbol = company_info_df.iloc[0]['Stock Symbol']\n",
    "\n",
    "raw_stock_quote = r.get('http://dev.markitondemand.com/Api/v2/Quote/json?symbol=' + ticker_symbol).json()\n",
    "stock_quote = pd.DataFrame(raw_stock_quote,index=[0])\n",
    "stock_quote.head()\n",
    "###################################################################################################################"
   ]
  }
 ],
 "metadata": {
  "kernelspec": {
   "display_name": "Python 3",
   "language": "python",
   "name": "python3"
  },
  "language_info": {
   "codemirror_mode": {
    "name": "ipython",
    "version": 3
   },
   "file_extension": ".py",
   "mimetype": "text/x-python",
   "name": "python",
   "nbconvert_exporter": "python",
   "pygments_lexer": "ipython3",
   "version": "3.5.1"
  }
 },
 "nbformat": 4,
 "nbformat_minor": 0
}
