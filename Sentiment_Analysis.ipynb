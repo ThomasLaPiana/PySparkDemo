{
 "cells": [
  {
   "cell_type": "code",
   "execution_count": 2,
   "metadata": {
    "collapsed": false
   },
   "outputs": [],
   "source": [
    "####################################Imports and TimeStamp###################################################\n",
    "import feedparser as fp, pandas as pd, datetime, time, string, requests as r\n",
    "from bs4 import BeautifulSoup \n",
    "from functools import reduce\n",
    "\n",
    "#Write the Date&Time that the Rip Occured\n",
    "download_time = datetime.datetime.fromtimestamp(time.time()).strftime('%Y-%m-%d %H:%M:%S')\n",
    "\n",
    "file = open('dateDownloaded.txt','w')\n",
    "file.write(download_time)\n",
    "file.close()\n",
    "\n",
    "###################################################################################################################"
   ]
  },
  {
   "cell_type": "code",
   "execution_count": 37,
   "metadata": {
    "collapsed": false
   },
   "outputs": [
    {
     "data": {
      "text/html": [
       "<div>\n",
       "<table border=\"1\" class=\"dataframe\">\n",
       "  <thead>\n",
       "    <tr style=\"text-align: right;\">\n",
       "      <th></th>\n",
       "      <th>author</th>\n",
       "      <th>id</th>\n",
       "      <th>title</th>\n",
       "      <th>summary</th>\n",
       "    </tr>\n",
       "  </thead>\n",
       "  <tbody>\n",
       "    <tr>\n",
       "      <th>0</th>\n",
       "      <td>Sari Gabbay</td>\n",
       "      <td>http://www.huffingtonpost.com/sari-gabbay/the-...</td>\n",
       "      <td>The Roars of Cannons Wont Stop the Explosions ...</td>\n",
       "      <td>If you are reading this and planning on comm...</td>\n",
       "    </tr>\n",
       "  </tbody>\n",
       "</table>\n",
       "</div>"
      ],
      "text/plain": [
       "        author                                                 id  \\\n",
       "0  Sari Gabbay  http://www.huffingtonpost.com/sari-gabbay/the-...   \n",
       "\n",
       "                                               title  \\\n",
       "0  The Roars of Cannons Wont Stop the Explosions ...   \n",
       "\n",
       "                                             summary  \n",
       "0    If you are reading this and planning on comm...  "
      ]
     },
     "execution_count": 37,
     "metadata": {},
     "output_type": "execute_result"
    }
   ],
   "source": [
    "#################################Create the Cleaned News Items DataFrame###########################################\n",
    "\n",
    "#Import the raw data into a DataFrame\n",
    "raw_news_dataframe = pd.DataFrame(feed_items)\n",
    "\n",
    "#Clean the DataFrame\n",
    "def dataframe_cleaner(dataframe): \n",
    "    being_cleaned_df = pd.DataFrame(raw_news_dataframe[['author','id','title','summary']])\n",
    "    \n",
    "    for i in range(0,len(being_cleaned_df['summary'])):\n",
    "        soup = BeautifulSoup(being_cleaned_df['summary'][i],'lxml')\n",
    "        being_cleaned_df['summary'][i] = soup.get_text()\n",
    "    \n",
    "    return being_cleaned_df\n",
    "    \n",
    "#Create the cleaned Dataframe    \n",
    "news_df = dataframe_cleaner(raw_news_dataframe)\n",
    "news_df.head(1)\n",
    "\n",
    "###################################################################################################################"
   ]
  },
  {
   "cell_type": "code",
   "execution_count": 38,
   "metadata": {
    "collapsed": false
   },
   "outputs": [
    {
     "data": {
      "text/html": [
       "<div>\n",
       "<table border=\"1\" class=\"dataframe\">\n",
       "  <thead>\n",
       "    <tr style=\"text-align: right;\">\n",
       "      <th></th>\n",
       "      <th>type</th>\n",
       "      <th>word</th>\n",
       "      <th>position</th>\n",
       "      <th>stemmed</th>\n",
       "      <th>polarity</th>\n",
       "    </tr>\n",
       "  </thead>\n",
       "  <tbody>\n",
       "    <tr>\n",
       "      <th>0</th>\n",
       "      <td>0.5</td>\n",
       "      <td>abandoned</td>\n",
       "      <td>adj</td>\n",
       "      <td>n</td>\n",
       "      <td>-1</td>\n",
       "    </tr>\n",
       "  </tbody>\n",
       "</table>\n",
       "</div>"
      ],
      "text/plain": [
       "   type       word position stemmed  polarity\n",
       "0   0.5  abandoned      adj       n        -1"
      ]
     },
     "execution_count": 38,
     "metadata": {},
     "output_type": "execute_result"
    }
   ],
   "source": [
    "#Load in the Huffington Post DataFrame\n",
    "huffington_df = pd.read_csv('DataFramed_Source_Text/HuffingtonPostSentiment.csv')\n",
    "huffington_df = sentiment_df.ix[:,'type':]\n",
    "huffington_df.head(1)"
   ]
  },
  {
   "cell_type": "code",
   "execution_count": 33,
   "metadata": {
    "collapsed": false
   },
   "outputs": [
    {
     "data": {
      "text/html": [
       "<div>\n",
       "<table border=\"1\" class=\"dataframe\">\n",
       "  <thead>\n",
       "    <tr style=\"text-align: right;\">\n",
       "      <th></th>\n",
       "      <th>Change</th>\n",
       "      <th>ChangePercent</th>\n",
       "      <th>ChangePercentYTD</th>\n",
       "      <th>ChangeYTD</th>\n",
       "      <th>High</th>\n",
       "      <th>LastPrice</th>\n",
       "      <th>Low</th>\n",
       "      <th>MSDate</th>\n",
       "      <th>MarketCap</th>\n",
       "      <th>Name</th>\n",
       "      <th>Open</th>\n",
       "      <th>Status</th>\n",
       "      <th>Symbol</th>\n",
       "      <th>Timestamp</th>\n",
       "      <th>Volume</th>\n",
       "    </tr>\n",
       "  </thead>\n",
       "  <tbody>\n",
       "    <tr>\n",
       "      <th>0</th>\n",
       "      <td>-1.32</td>\n",
       "      <td>-1.187905</td>\n",
       "      <td>4.313129</td>\n",
       "      <td>105.26</td>\n",
       "      <td>110.73</td>\n",
       "      <td>109.8</td>\n",
       "      <td>109.43</td>\n",
       "      <td>42465.665972</td>\n",
       "      <td>608795213400</td>\n",
       "      <td>Apple Inc</td>\n",
       "      <td>109.59</td>\n",
       "      <td>SUCCESS</td>\n",
       "      <td>AAPL</td>\n",
       "      <td>Tue Apr 5 15:59:00 UTC-04:00 2016</td>\n",
       "      <td>2015632</td>\n",
       "    </tr>\n",
       "  </tbody>\n",
       "</table>\n",
       "</div>"
      ],
      "text/plain": [
       "   Change  ChangePercent  ChangePercentYTD  ChangeYTD    High  LastPrice  \\\n",
       "0   -1.32      -1.187905          4.313129     105.26  110.73      109.8   \n",
       "\n",
       "      Low        MSDate     MarketCap       Name    Open   Status Symbol  \\\n",
       "0  109.43  42465.665972  608795213400  Apple Inc  109.59  SUCCESS   AAPL   \n",
       "\n",
       "                           Timestamp   Volume  \n",
       "0  Tue Apr 5 15:59:00 UTC-04:00 2016  2015632  "
      ]
     },
     "execution_count": 33,
     "metadata": {},
     "output_type": "execute_result"
    }
   ],
   "source": [
    "################################################Pull Stock Data#####################################################\n",
    "raw_stock_quote = r.get('http://dev.markitondemand.com/Api/v2/Quote/json?symbol=' + ticker_symbol).json()\n",
    "stock_quote = pd.DataFrame(raw_stock_quote,index=[0])\n",
    "stock_quote.head()\n",
    "###################################################################################################################"
   ]
  },
  {
   "cell_type": "code",
   "execution_count": 49,
   "metadata": {
    "collapsed": false
   },
   "outputs": [
    {
     "data": {
      "text/html": [
       "<div>\n",
       "<table border=\"1\" class=\"dataframe\">\n",
       "  <thead>\n",
       "    <tr style=\"text-align: right;\">\n",
       "      <th></th>\n",
       "      <th>author</th>\n",
       "      <th>id</th>\n",
       "      <th>title</th>\n",
       "      <th>summary</th>\n",
       "      <th>normalized_title_sentiment</th>\n",
       "      <th>normalized_summary_sentiment</th>\n",
       "    </tr>\n",
       "  </thead>\n",
       "  <tbody>\n",
       "  </tbody>\n",
       "</table>\n",
       "</div>"
      ],
      "text/plain": [
       "Empty DataFrame\n",
       "Columns: [author, id, title, summary, normalized_title_sentiment, normalized_summary_sentiment]\n",
       "Index: []"
      ]
     },
     "execution_count": 49,
     "metadata": {},
     "output_type": "execute_result"
    }
   ],
   "source": [
    "filter_list = list(map(lambda x: company_name in x,analyzed_articles_df['title']))\n",
    "filtered_dataframe = analyzed_articles_df[filter_list]\n",
    "filtered_dataframe.head()"
   ]
  }
 ],
 "metadata": {
  "kernelspec": {
   "display_name": "Python 3",
   "language": "python",
   "name": "python3"
  },
  "language_info": {
   "codemirror_mode": {
    "name": "ipython",
    "version": 3
   },
   "file_extension": ".py",
   "mimetype": "text/x-python",
   "name": "python",
   "nbconvert_exporter": "python",
   "pygments_lexer": "ipython3",
   "version": "3.5.1"
  }
 },
 "nbformat": 4,
 "nbformat_minor": 0
}
