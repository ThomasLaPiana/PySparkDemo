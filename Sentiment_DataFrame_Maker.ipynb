{
 "cells": [
  {
   "cell_type": "code",
   "execution_count": 6,
   "metadata": {
    "collapsed": false
   },
   "outputs": [
    {
     "data": {
      "text/html": [
       "<div>\n",
       "<table border=\"1\" class=\"dataframe\">\n",
       "  <thead>\n",
       "    <tr style=\"text-align: right;\">\n",
       "      <th></th>\n",
       "      <th>type</th>\n",
       "      <th>word</th>\n",
       "      <th>position</th>\n",
       "      <th>stemmed</th>\n",
       "      <th>polarity</th>\n",
       "    </tr>\n",
       "  </thead>\n",
       "  <tbody>\n",
       "    <tr>\n",
       "      <th>0</th>\n",
       "      <td>0.5</td>\n",
       "      <td>abandoned</td>\n",
       "      <td>adj</td>\n",
       "      <td>n</td>\n",
       "      <td>-1</td>\n",
       "    </tr>\n",
       "  </tbody>\n",
       "</table>\n",
       "</div>"
      ],
      "text/plain": [
       "   type       word position stemmed  polarity\n",
       "0   0.5  abandoned      adj       n        -1"
      ]
     },
     "execution_count": 6,
     "metadata": {},
     "output_type": "execute_result"
    }
   ],
   "source": [
    "########################################Create the Clean Sentiment DataFrame#######################################\n",
    "import pandas as pd\n",
    "\n",
    "#Import the Sentiment Dictionary \n",
    "f = open('sentiment_dictionary.tff','r')\n",
    "raw_sentiment_dictionary = f.read()\n",
    "\n",
    "#Cleanse the Dictionary and create a Raw Sentiment DataFrame\n",
    "def dictionary_to_dataframe(dictionary):\n",
    "    \n",
    "    being_cleaned_list = list(map(lambda x: x[0].split(\" \"),[x.split(',') for x in dictionary.split('\\n')]))\n",
    "    being_cleaned_df = pd.DataFrame(being_cleaned_list)[[0,2,3,4,5]]\n",
    "    being_cleaned_df.columns = ['type','word','position','stemmed','polarity']\n",
    "    \n",
    "    return being_cleaned_df\n",
    "\n",
    "\n",
    "#Create a Totally Cleaned Sentiment Dataframe\n",
    "def sentiment_dataframe_maker(file):\n",
    "    \n",
    "    #Call another function to turn the file into a raw dataframe\n",
    "    raw_df = dictionary_to_dataframe(file).dropna()\n",
    "    \n",
    "    #Clean up the strings within the cells\n",
    "    replace_list = ['type','word','position','stemmed','polarity']\n",
    "    \n",
    "    for x in replace_list:\n",
    "        raw_df[x] = list(map(lambda x: x.split('=')[-1],raw_df[x]))\n",
    "        \n",
    "    #Convert Type and Polarity to numerical values \n",
    "    \n",
    "    type_unique = dict.fromkeys(raw_df['type'].unique())\n",
    "    type_unique['weaksubj'] = .5\n",
    "    type_unique['strongsubj'] = 1\n",
    "    \n",
    "    for key,value in type_unique.items():\n",
    "        raw_df['type'] = raw_df['type'].replace(key,value)  \n",
    "    \n",
    "    polarity_unique = dict.fromkeys(raw_df['polarity'].unique())\n",
    "    polarity_unique['negative'] = int(-1)\n",
    "    polarity_unique['positive'] = int(1)\n",
    "    polarity_unique['neutral'] = 0\n",
    "    polarity_unique['both'] = None\n",
    "    polarity_unique['m'] = None\n",
    "    \n",
    "    for key,value in polarity_unique.items():\n",
    "        raw_df['polarity'] = raw_df['polarity'].replace(key,value)\n",
    "    \n",
    "    raw_df = raw_df.dropna()\n",
    "    \n",
    "    return raw_df\n",
    "    \n",
    "\n",
    "#Create the Cleaned Sentiment Dataframe\n",
    "sentiment_df = sentiment_dataframe_maker(raw_sentiment_dictionary)\n",
    "sentiment_df.head(1)\n",
    "\n",
    "###################################################################################################################"
   ]
  },
  {
   "cell_type": "code",
   "execution_count": 2,
   "metadata": {
    "collapsed": true
   },
   "outputs": [],
   "source": [
    "sentiment_df.to_csv('sentiment_DataFrame.csv')"
   ]
  },
  {
   "cell_type": "code",
   "execution_count": null,
   "metadata": {
    "collapsed": true
   },
   "outputs": [],
   "source": []
  }
 ],
 "metadata": {
  "kernelspec": {
   "display_name": "Python 3",
   "language": "python",
   "name": "python3"
  },
  "language_info": {
   "codemirror_mode": {
    "name": "ipython",
    "version": 3
   },
   "file_extension": ".py",
   "mimetype": "text/x-python",
   "name": "python",
   "nbconvert_exporter": "python",
   "pygments_lexer": "ipython3",
   "version": "3.5.1"
  }
 },
 "nbformat": 4,
 "nbformat_minor": 0
}
