{
 "cells": [
  {
   "cell_type": "code",
   "execution_count": 4,
   "metadata": {
    "collapsed": false
   },
   "outputs": [
    {
     "name": "stdout",
     "output_type": "stream",
     "text": [
      "{'author': 'MIKE ISAAC and MICHAEL J. de la MERCED', 'tags': [{'label': None, 'term': 'Football', 'scheme': 'http://www.nytimes.com/namespaces/keywords/des'}, {'label': None, 'term': 'Video Recordings, Downloads and Streaming', 'scheme': 'http://www.nytimes.com/namespaces/keywords/des'}, {'label': None, 'term': 'Twitter', 'scheme': 'http://www.nytimes.com/namespaces/keywords/nyt_org_all'}, {'label': None, 'term': 'National Football League', 'scheme': 'http://www.nytimes.com/namespaces/keywords/nyt_org_all'}, {'label': None, 'term': 'Reddit Inc', 'scheme': 'http://www.nytimes.com/namespaces/keywords/nyt_org_all'}, {'label': None, 'term': 'Facebook Inc', 'scheme': 'http://www.nytimes.com/namespaces/keywords/nyt_org_all'}], 'author_detail': {'name': 'MIKE ISAAC and MICHAEL J. de la MERCED'}, 'media_credit': [{'content': 'Joshua Bright for The New York Times', 'scheme': 'urn:ebu'}], 'title': 'Bits: The Week in Tech: Facebook Live, a More Civil Reddit and Yahoo’s Odd Deal-Making', 'authors': [{'name': 'MIKE ISAAC and MICHAEL J. de la MERCED'}], 'title_detail': {'language': None, 'value': 'Bits: The Week in Tech: Facebook Live, a More Civil Reddit and Yahoo’s Odd Deal-Making', 'base': 'http://rss.nytimes.com/services/xml/rss/nyt/Technology.xml', 'type': 'text/plain'}, 'published_parsed': time.struct_time(tm_year=2016, tm_mon=4, tm_mday=9, tm_hour=13, tm_min=30, tm_sec=24, tm_wday=5, tm_yday=100, tm_isdst=0), 'published': 'Sat, 09 Apr 2016 13:30:24 GMT', 'media_content': [{'height': '151', 'url': 'http://graphics8.nytimes.com/images/2016/04/10/business/10technewsletter2/10technewsletter2-moth.jpg', 'width': '151', 'lang': ''}], 'links': [{'rel': 'standout', 'href': 'http://www.nytimes.com/2016/04/10/technology/the-week-in-tech-facebook-live-a-more-civil-reddit-and-yahoos-odd-deal-making.html?partner=rss&emc=rss', 'type': 'text/html'}, {'rel': 'alternate', 'href': 'http://rss.nytimes.com/c/34625/f/640387/s/4ed45fd3/sc/13/l/0L0Snytimes0N0C20A160C0A40C10A0Ctechnology0Cthe0Eweek0Ein0Etech0Efacebook0Elive0Ea0Emore0Ecivil0Ereddit0Eand0Eyahoos0Eodd0Edeal0Emaking0Bhtml0Dpartner0Frss0Gemc0Frss/story01.htm', 'type': 'text/html'}], 'credit': 'Joshua Bright for The New York Times', 'summary': 'Michael de la Merced, of DealBook, fills in for Farhad Manjoo and joins Mike Isaac for a discussion of all that and Twitter’s football deal.<br clear=\\'all\\'/><br/><br/><a href=\"http://rc.feedsportal.com/r/257412841504/u/57/f/640387/c/34625/s/4ed45fd3/sc/13/rc/1/rc.htm\" rel=\"nofollow\"><img src=\"http://rc.feedsportal.com/r/257412841504/u/57/f/640387/c/34625/s/4ed45fd3/sc/13/rc/1/rc.img\" border=\"0\"/></a><br/><br/><a href=\"http://rc.feedsportal.com/r/257412841504/u/57/f/640387/c/34625/s/4ed45fd3/sc/13/rc/2/rc.htm\" rel=\"nofollow\"><img src=\"http://rc.feedsportal.com/r/257412841504/u/57/f/640387/c/34625/s/4ed45fd3/sc/13/rc/2/rc.img\" border=\"0\"/></a><br/><br/><a href=\"http://rc.feedsportal.com/r/257412841504/u/57/f/640387/c/34625/s/4ed45fd3/sc/13/rc/3/rc.htm\" rel=\"nofollow\"><img src=\"http://rc.feedsportal.com/r/257412841504/u/57/f/640387/c/34625/s/4ed45fd3/sc/13/rc/3/rc.img\" border=\"0\"/></a><br/><br/><a href=\"http://da.feedsportal.com/r/257412841504/u/57/f/640387/c/34625/s/4ed45fd3/sc/13/a2.htm\"><img src=\"http://da.feedsportal.com/r/257412841504/u/57/f/640387/c/34625/s/4ed45fd3/sc/13/a2.img\" border=\"0\"/></a><br/><a href=\"http://adchoice.feedsportal.com/r/257412841504/u/57/f/640387/c/34625/s/4ed45fd3/sc/13/ach.htm\"><img src=\"http://adchoice.feedsportal.com/r/257412841504/u/57/f/640387/c/34625/s/4ed45fd3/sc/13/ach.img\" border=\"0\"/></a><img width=\"1\" height=\"1\" src=\"http://pi.feedsportal.com/r/257412841504/u/57/f/640387/c/34625/s/4ed45fd3/sc/13/a2t.img\" border=\"0\"/><img width=\"1\" height=\"1\" src=\"http://pi2.feedsportal.com/r/257412841504/u/57/f/640387/c/34625/s/4ed45fd3/sc/13/a2t2.img\" border=\"0\"/><img width=\\'1\\' height=\\'1\\' src=\\'http://rss.nytimes.com/c/34625/f/640387/s/4ed45fd3/sc/13/mf.gif\\' border=\\'0\\'/>', 'link': 'http://rss.nytimes.com/c/34625/f/640387/s/4ed45fd3/sc/13/l/0L0Snytimes0N0C20A160C0A40C10A0Ctechnology0Cthe0Eweek0Ein0Etech0Efacebook0Elive0Ea0Emore0Ecivil0Ereddit0Eand0Eyahoos0Eodd0Edeal0Emaking0Bhtml0Dpartner0Frss0Gemc0Frss/story01.htm', 'id': 'http://www.nytimes.com/2016/04/10/technology/the-week-in-tech-facebook-live-a-more-civil-reddit-and-yahoos-odd-deal-making.html', 'summary_detail': {'language': None, 'value': 'Michael de la Merced, of DealBook, fills in for Farhad Manjoo and joins Mike Isaac for a discussion of all that and Twitter’s football deal.<br clear=\\'all\\'/><br/><br/><a href=\"http://rc.feedsportal.com/r/257412841504/u/57/f/640387/c/34625/s/4ed45fd3/sc/13/rc/1/rc.htm\" rel=\"nofollow\"><img src=\"http://rc.feedsportal.com/r/257412841504/u/57/f/640387/c/34625/s/4ed45fd3/sc/13/rc/1/rc.img\" border=\"0\"/></a><br/><br/><a href=\"http://rc.feedsportal.com/r/257412841504/u/57/f/640387/c/34625/s/4ed45fd3/sc/13/rc/2/rc.htm\" rel=\"nofollow\"><img src=\"http://rc.feedsportal.com/r/257412841504/u/57/f/640387/c/34625/s/4ed45fd3/sc/13/rc/2/rc.img\" border=\"0\"/></a><br/><br/><a href=\"http://rc.feedsportal.com/r/257412841504/u/57/f/640387/c/34625/s/4ed45fd3/sc/13/rc/3/rc.htm\" rel=\"nofollow\"><img src=\"http://rc.feedsportal.com/r/257412841504/u/57/f/640387/c/34625/s/4ed45fd3/sc/13/rc/3/rc.img\" border=\"0\"/></a><br/><br/><a href=\"http://da.feedsportal.com/r/257412841504/u/57/f/640387/c/34625/s/4ed45fd3/sc/13/a2.htm\"><img src=\"http://da.feedsportal.com/r/257412841504/u/57/f/640387/c/34625/s/4ed45fd3/sc/13/a2.img\" border=\"0\"/></a><br/><a href=\"http://adchoice.feedsportal.com/r/257412841504/u/57/f/640387/c/34625/s/4ed45fd3/sc/13/ach.htm\"><img src=\"http://adchoice.feedsportal.com/r/257412841504/u/57/f/640387/c/34625/s/4ed45fd3/sc/13/ach.img\" border=\"0\"/></a><img width=\"1\" height=\"1\" src=\"http://pi.feedsportal.com/r/257412841504/u/57/f/640387/c/34625/s/4ed45fd3/sc/13/a2t.img\" border=\"0\"/><img width=\"1\" height=\"1\" src=\"http://pi2.feedsportal.com/r/257412841504/u/57/f/640387/c/34625/s/4ed45fd3/sc/13/a2t2.img\" border=\"0\"/><img width=\\'1\\' height=\\'1\\' src=\\'http://rss.nytimes.com/c/34625/f/640387/s/4ed45fd3/sc/13/mf.gif\\' border=\\'0\\'/>', 'base': 'http://rss.nytimes.com/services/xml/rss/nyt/Technology.xml', 'type': 'text/html'}, 'content': [{'language': None, 'value': 'Caroline Modarressy-Tehrani of The Huffington Post interviewed Wyclef Jean for a live feed from the Brooklyn Bowl in Brooklyn.', 'base': 'http://rss.nytimes.com/services/xml/rss/nyt/Technology.xml', 'type': 'text/plain'}], 'guidislink': False}\n"
     ]
    }
   ],
   "source": [
    "####################################Imports and Initial Feed Rip###################################################\n",
    "import feedparser as fp, pandas as pd, datetime, time, string, requests as r\n",
    "from bs4 import BeautifulSoup \n",
    "from functools import reduce\n",
    "\n",
    "\n",
    "rss_feed = 'http://rss.nytimes.com/services/xml/rss/nyt/Technology.xml'\n",
    "company_info_df = pd.read_csv('Target_Company.csv')\n",
    "company_name = company_info_df.iloc[0]['Company Name']\n",
    "\n",
    "\n",
    "#Get the News Feed and Slice it to only include the news items\n",
    "feed = fp.parse(rss_feed)\n",
    "feed_items = feed['items']\n",
    "print(feed_items[0])\n",
    "###################################################################################################################"
   ]
  },
  {
   "cell_type": "code",
   "execution_count": 5,
   "metadata": {
    "collapsed": false
   },
   "outputs": [
    {
     "data": {
      "text/html": [
       "<div>\n",
       "<table border=\"1\" class=\"dataframe\">\n",
       "  <thead>\n",
       "    <tr style=\"text-align: right;\">\n",
       "      <th></th>\n",
       "      <th>author</th>\n",
       "      <th>id</th>\n",
       "      <th>title</th>\n",
       "      <th>summary</th>\n",
       "    </tr>\n",
       "  </thead>\n",
       "  <tbody>\n",
       "    <tr>\n",
       "      <th>0</th>\n",
       "      <td>JAMIL N. JAFFER and DANIEL J. ROSENTHAL</td>\n",
       "      <td>http://www.nytimes.com/2016/04/09/opinion/why-...</td>\n",
       "      <td>Op-Ed Contributors: Why Apple’s Stand Against ...</td>\n",
       "      <td>Privacy advocates applauded the decision not t...</td>\n",
       "    </tr>\n",
       "    <tr>\n",
       "      <th>1</th>\n",
       "      <td>ERIC LICHTBLAU and KATIE BENNER</td>\n",
       "      <td>http://www.nytimes.com/2016/04/09/technology/u...</td>\n",
       "      <td>U.S. Presses Bid to Force Apple to Unlock iPho...</td>\n",
       "      <td>In a letter to a federal judge, the Justice De...</td>\n",
       "    </tr>\n",
       "  </tbody>\n",
       "</table>\n",
       "</div>"
      ],
      "text/plain": [
       "                                    author  \\\n",
       "0  JAMIL N. JAFFER and DANIEL J. ROSENTHAL   \n",
       "1          ERIC LICHTBLAU and KATIE BENNER   \n",
       "\n",
       "                                                  id  \\\n",
       "0  http://www.nytimes.com/2016/04/09/opinion/why-...   \n",
       "1  http://www.nytimes.com/2016/04/09/technology/u...   \n",
       "\n",
       "                                               title  \\\n",
       "0  Op-Ed Contributors: Why Apple’s Stand Against ...   \n",
       "1  U.S. Presses Bid to Force Apple to Unlock iPho...   \n",
       "\n",
       "                                             summary  \n",
       "0  Privacy advocates applauded the decision not t...  \n",
       "1  In a letter to a federal judge, the Justice De...  "
      ]
     },
     "execution_count": 5,
     "metadata": {},
     "output_type": "execute_result"
    }
   ],
   "source": [
    "#################################Create the Cleaned News Items DataFrame###########################################\n",
    "\n",
    "#Import the raw data into a DataFrame\n",
    "raw_news_dataframe = pd.DataFrame(feed_items)\n",
    "\n",
    "#Clean the DataFrame\n",
    "def dataframe_cleaner(dataframe): \n",
    "    being_cleaned_df = pd.DataFrame(raw_news_dataframe[['author','id','title','summary']])\n",
    "    \n",
    "    for i in range(0,len(being_cleaned_df['summary'])):\n",
    "        soup = BeautifulSoup(being_cleaned_df['summary'][i],'lxml')\n",
    "        being_cleaned_df['summary'][i] = soup.get_text()\n",
    "    \n",
    "    return being_cleaned_df\n",
    "    \n",
    "#Create the Full Dataframe    \n",
    "full_df = dataframe_cleaner(raw_news_dataframe)\n",
    ",#Create the filtered dataframe, containing only rows that have company_name in the title\n",
    "company_in_title_list = list(map(lambda x: company_name in x,full_df['title']))\n",
    "news_df = full_df[company_in_title_list].reset_index(drop=True)\n",
    "news_df.head()\n",
    "\n",
    "###################################################################################################################"
   ]
  },
  {
   "cell_type": "code",
   "execution_count": 6,
   "metadata": {
    "collapsed": false
   },
   "outputs": [
    {
     "data": {
      "text/html": [
       "<div>\n",
       "<table border=\"1\" class=\"dataframe\">\n",
       "  <thead>\n",
       "    <tr style=\"text-align: right;\">\n",
       "      <th></th>\n",
       "      <th>type</th>\n",
       "      <th>word</th>\n",
       "      <th>position</th>\n",
       "      <th>stemmed</th>\n",
       "      <th>polarity</th>\n",
       "    </tr>\n",
       "  </thead>\n",
       "  <tbody>\n",
       "    <tr>\n",
       "      <th>0</th>\n",
       "      <td>0.5</td>\n",
       "      <td>abandoned</td>\n",
       "      <td>adj</td>\n",
       "      <td>n</td>\n",
       "      <td>-1</td>\n",
       "    </tr>\n",
       "  </tbody>\n",
       "</table>\n",
       "</div>"
      ],
      "text/plain": [
       "   type       word position stemmed  polarity\n",
       "0   0.5  abandoned      adj       n        -1"
      ]
     },
     "execution_count": 6,
     "metadata": {},
     "output_type": "execute_result"
    }
   ],
   "source": [
    "#Load in the Sentiment DataFrame\n",
    "sentiment_df = pd.read_csv('../Sentiment_Dictionary/sentiment_DataFrame.csv')\n",
    "sentiment_df = sentiment_df.ix[:,'type':]\n",
    "sentiment_df.head(1)"
   ]
  },
  {
   "cell_type": "code",
   "execution_count": 7,
   "metadata": {
    "collapsed": false
   },
   "outputs": [
    {
     "name": "stdout",
     "output_type": "stream",
     "text": [
      "Elapsed Time: 3.7850706577301025\n"
     ]
    }
   ],
   "source": [
    "##########################Perform Sentiment Analysis on the Title and Body of the Articles#########################\n",
    "def title_analysis(title):\n",
    "    tokenized_title = dict.fromkeys(title.split(' '))                          \n",
    "                                \n",
    "    for key in tokenized_title:\n",
    "        tokenized_title[key] = [sentiment_df['type'][i] * sentiment_df['polarity'][i]\n",
    "                               for i in range(0,len(sentiment_df.index)) \n",
    "                               if key.lower() == sentiment_df['word'][i]]\n",
    "    \n",
    "    total_sentiment = sum([item for sublist in list(tokenized_title.values()) for item in sublist])\n",
    "    normalized_sentiment = total_sentiment / len(tokenized_title)\n",
    "    \n",
    "    return normalized_sentiment\n",
    "\n",
    "def summary_analysis(summary):\n",
    "    tokenized_summary = dict.fromkeys(summary.split(' '))\n",
    "    \n",
    "    for key in tokenized_summary:\n",
    "        tokenized_summary[key] = [sentiment_df['type'][i] * sentiment_df['polarity'][i]\n",
    "                               for i in range(0,len(sentiment_df.index)) \n",
    "                               if key.lower() == sentiment_df['word'][i]]\n",
    "    \n",
    "    total_sentiment = sum([item for sublist in list(tokenized_summary.values()) for item in sublist])\n",
    "    normalized_sentiment = total_sentiment / len(tokenized_summary)\n",
    "    return normalized_sentiment\n",
    "\n",
    "def sentiment_analysis(dataframe):\n",
    "    analyzing_df = dataframe\n",
    "    analyzing_df['normalized_title_sentiment'] = list(map(lambda x: title_analysis(x),analyzing_df['title']))\n",
    "    analyzing_df['normalized_summary_sentiment'] = list(map(lambda x: summary_analysis(x),analyzing_df['summary']))\n",
    "    return analyzing_df\n",
    "\n",
    "start_time = time.time()\n",
    "analyzed_articles_df = sentiment_analysis(news_df)\n",
    "elapsed_time = time.time() - start_time\n",
    "print('Elapsed Time: ' + str(elapsed_time))\n",
    "analyzed_articles_df.head(1)\n",
    "analyzed_articles_df.to_csv('NYTSentiment.csv')\n",
    "###################################################################################################################"
   ]
  }
 ],
 "metadata": {
  "kernelspec": {
   "display_name": "Python 3",
   "language": "python",
   "name": "python3"
  },
  "language_info": {
   "codemirror_mode": {
    "name": "ipython",
    "version": 3
   },
   "file_extension": ".py",
   "mimetype": "text/x-python",
   "name": "python",
   "nbconvert_exporter": "python",
   "pygments_lexer": "ipython3",
   "version": "3.5.1"
  }
 },
 "nbformat": 4,
 "nbformat_minor": 0
}
