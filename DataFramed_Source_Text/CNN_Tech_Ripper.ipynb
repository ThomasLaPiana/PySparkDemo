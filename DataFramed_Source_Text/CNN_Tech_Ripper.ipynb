{
 "cells": [
  {
   "cell_type": "code",
   "execution_count": 11,
   "metadata": {
    "collapsed": false
   },
   "outputs": [],
   "source": [
    "####################################Imports and Initial Feed Rip###################################################\n",
    "import feedparser as fp, pandas as pd, datetime, time, string, requests as r\n",
    "from bs4 import BeautifulSoup \n",
    "from functools import reduce\n",
    "\n",
    "\n",
    "rss_feed = 'http://rss.cnn.com/rss/cnn_tech.rss'\n",
    "company_info_df = pd.read_csv('Target_Company.csv')\n",
    "company_name = company_info_df.iloc[0]['Company Name']\n",
    "\n",
    "\n",
    "#Get the News Feed and Slice it to only include the news items\n",
    "feed = fp.parse(rss_feed)\n",
    "feed_items = feed['items']\n",
    "###################################################################################################################"
   ]
  },
  {
   "cell_type": "code",
   "execution_count": 12,
   "metadata": {
    "collapsed": false
   },
   "outputs": [
    {
     "data": {
      "text/html": [
       "<div>\n",
       "<table border=\"1\" class=\"dataframe\">\n",
       "  <thead>\n",
       "    <tr style=\"text-align: right;\">\n",
       "      <th></th>\n",
       "      <th>id</th>\n",
       "      <th>title</th>\n",
       "    </tr>\n",
       "  </thead>\n",
       "  <tbody>\n",
       "    <tr>\n",
       "      <th>0</th>\n",
       "      <td>http://www.cnn.com/2016/03/31/health/siri-appl...</td>\n",
       "      <td>Apple updates Siri's response to 'I was raped'</td>\n",
       "    </tr>\n",
       "  </tbody>\n",
       "</table>\n",
       "</div>"
      ],
      "text/plain": [
       "                                                  id  \\\n",
       "0  http://www.cnn.com/2016/03/31/health/siri-appl...   \n",
       "\n",
       "                                            title  \n",
       "0  Apple updates Siri's response to 'I was raped'  "
      ]
     },
     "execution_count": 12,
     "metadata": {},
     "output_type": "execute_result"
    }
   ],
   "source": [
    "#################################Create the Cleaned News Items DataFrame###########################################\n",
    "\n",
    "#Import the raw data into a DataFrame\n",
    "raw_news_dataframe = pd.DataFrame(feed_items)\n",
    "\n",
    "#Clean the DataFrame\n",
    "def dataframe_cleaner(dataframe): \n",
    "    being_cleaned_df = pd.DataFrame(raw_news_dataframe[['id','title']])\n",
    "    \n",
    "    return being_cleaned_df\n",
    "    \n",
    "#Create the Full Dataframe    \n",
    "full_df = dataframe_cleaner(raw_news_dataframe)\n",
    ",#Create the filtered dataframe, containing only rows that have company_name in the title\n",
    "company_in_title_list = list(map(lambda x: company_name in x,full_df['title']))\n",
    "news_df = full_df[company_in_title_list].reset_index(drop=True)\n",
    "news_df.head()\n",
    "\n",
    "###################################################################################################################"
   ]
  },
  {
   "cell_type": "code",
   "execution_count": 13,
   "metadata": {
    "collapsed": false
   },
   "outputs": [
    {
     "data": {
      "text/html": [
       "<div>\n",
       "<table border=\"1\" class=\"dataframe\">\n",
       "  <thead>\n",
       "    <tr style=\"text-align: right;\">\n",
       "      <th></th>\n",
       "      <th>type</th>\n",
       "      <th>word</th>\n",
       "      <th>position</th>\n",
       "      <th>stemmed</th>\n",
       "      <th>polarity</th>\n",
       "    </tr>\n",
       "  </thead>\n",
       "  <tbody>\n",
       "    <tr>\n",
       "      <th>0</th>\n",
       "      <td>0.5</td>\n",
       "      <td>abandoned</td>\n",
       "      <td>adj</td>\n",
       "      <td>n</td>\n",
       "      <td>-1</td>\n",
       "    </tr>\n",
       "  </tbody>\n",
       "</table>\n",
       "</div>"
      ],
      "text/plain": [
       "   type       word position stemmed  polarity\n",
       "0   0.5  abandoned      adj       n        -1"
      ]
     },
     "execution_count": 13,
     "metadata": {},
     "output_type": "execute_result"
    }
   ],
   "source": [
    "#Load in the Sentiment DataFrame\n",
    "sentiment_df = pd.read_csv('../Sentiment_Dictionary/sentiment_DataFrame.csv')\n",
    "sentiment_df = sentiment_df.ix[:,'type':]\n",
    "sentiment_df.head(1)"
   ]
  },
  {
   "cell_type": "code",
   "execution_count": 14,
   "metadata": {
    "collapsed": false
   },
   "outputs": [
    {
     "name": "stdout",
     "output_type": "stream",
     "text": [
      "Elapsed Time: 0.4628000259399414\n"
     ]
    }
   ],
   "source": [
    "##########################Perform Sentiment Analysis on the Title and Body of the Articles#########################\n",
    "def title_analysis(title):\n",
    "    tokenized_title = dict.fromkeys(title.split(' '))                          \n",
    "                                \n",
    "    for key in tokenized_title:\n",
    "        tokenized_title[key] = [sentiment_df['type'][i] * sentiment_df['polarity'][i]\n",
    "                               for i in range(0,len(sentiment_df.index)) \n",
    "                               if key.lower() == sentiment_df['word'][i]]\n",
    "    \n",
    "    total_sentiment = sum([item for sublist in list(tokenized_title.values()) for item in sublist])\n",
    "    normalized_sentiment = total_sentiment / len(tokenized_title)\n",
    "    \n",
    "    return normalized_sentiment\n",
    "\n",
    "def sentiment_analysis(dataframe):\n",
    "    analyzing_df = dataframe\n",
    "    analyzing_df['normalized_title_sentiment'] = list(map(lambda x: title_analysis(x),analyzing_df['title']))\n",
    "    return analyzing_df\n",
    "\n",
    "start_time = time.time()\n",
    "analyzed_articles_df = sentiment_analysis(news_df)\n",
    "elapsed_time = time.time() - start_time\n",
    "print('Elapsed Time: ' + str(elapsed_time))\n",
    "analyzed_articles_df.head(1)\n",
    "analyzed_articles_df.to_csv('CNNSentiment.csv')\n",
    "###################################################################################################################"
   ]
  }
 ],
 "metadata": {
  "kernelspec": {
   "display_name": "Python 3",
   "language": "python",
   "name": "python3"
  },
  "language_info": {
   "codemirror_mode": {
    "name": "ipython",
    "version": 3
   },
   "file_extension": ".py",
   "mimetype": "text/x-python",
   "name": "python",
   "nbconvert_exporter": "python",
   "pygments_lexer": "ipython3",
   "version": "3.5.1"
  }
 },
 "nbformat": 4,
 "nbformat_minor": 0
}
